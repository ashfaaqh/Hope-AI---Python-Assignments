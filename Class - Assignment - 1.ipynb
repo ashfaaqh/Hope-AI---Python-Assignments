{
 "cells": [
  {
   "cell_type": "code",
   "execution_count": 1,
   "id": "ef627940-3638-4318-89e3-d5bbdb1c24ea",
   "metadata": {},
   "outputs": [],
   "source": [
    "# Create a class and function, and list out the items in the list"
   ]
  },
  {
   "cell_type": "code",
   "execution_count": 2,
   "id": "ec428da8-5fe9-4626-a740-1ceeec5dad62",
   "metadata": {},
   "outputs": [],
   "source": [
    "class SubfieldsInAI():\n",
    "    \n",
    "    def Subfields():\n",
    "        print(\"Sub-fields in AI are:\")\n",
    "        for i in list:\n",
    "            print(i) "
   ]
  },
  {
   "cell_type": "code",
   "execution_count": 3,
   "id": "e38c2864-d524-42ad-834a-378475cf68c1",
   "metadata": {},
   "outputs": [
    {
     "name": "stdout",
     "output_type": "stream",
     "text": [
      "Sub-fields in AI are:\n",
      "Machine Learning\n",
      "Neural Networks\n",
      "Vision\n",
      "Robotics\n",
      "Speech processing\n",
      "Natural Language Processing\n"
     ]
    }
   ],
   "source": [
    "list = [\"Machine Learning\",\"Neural Networks\",\"Vision\",\"Robotics\",\"Speech processing\",\"Natural Language Processing\"] \n",
    "SubfieldsInAI.Subfields()"
   ]
  },
  {
   "cell_type": "code",
   "execution_count": 4,
   "id": "fc0b75de-3911-4d77-8f6b-cf0fe5e35221",
   "metadata": {},
   "outputs": [],
   "source": [
    "# Create a function that checks whether the given number is Odd or Even"
   ]
  },
  {
   "cell_type": "code",
   "execution_count": 7,
   "id": "1623beb2-63ef-4b02-a452-33f5a9b0017e",
   "metadata": {},
   "outputs": [],
   "source": [
    "\n",
    "class OddEven():\n",
    "    def OddEven():\n",
    "        num = int(input(\"Enter a number:\"))\n",
    "        if num%2==0:\n",
    "            print(num,\"is even number\")\n",
    "        else:\n",
    "            print(num,\"is odd number\")\n"
   ]
  },
  {
   "cell_type": "code",
   "execution_count": 8,
   "id": "2ae4fe12-9a50-47c8-8df5-7a6118fec8d3",
   "metadata": {},
   "outputs": [
    {
     "name": "stdin",
     "output_type": "stream",
     "text": [
      "Enter a number: 52638\n"
     ]
    },
    {
     "name": "stdout",
     "output_type": "stream",
     "text": [
      "52638 is even number\n"
     ]
    }
   ],
   "source": [
    "OddEven.OddEven()"
   ]
  },
  {
   "cell_type": "code",
   "execution_count": 9,
   "id": "3b746c9f-b568-4791-9b6e-04846ac8c791",
   "metadata": {},
   "outputs": [],
   "source": [
    "#Create a function that tells elegibility of marriage"
   ]
  },
  {
   "cell_type": "code",
   "execution_count": 10,
   "id": "d8192157-1c69-4959-bf92-866062222436",
   "metadata": {},
   "outputs": [],
   "source": [
    "\n",
    "class ElegiblityForMarriage():\n",
    "        \n",
    "    def Eligible():\n",
    "        Gender=input(\"Your Gender:\")\n",
    "        Age = int(input(\"Your Age:\"))\n",
    "        if Gender==\"Female\":\n",
    "            if Age<18:\n",
    "                print(\"Not Eligible\")\n",
    "            else:\n",
    "                print(\"Eligible\")\n",
    "        else:\n",
    "            if Age<21:\n",
    "                print(\"Not Eligible\")\n",
    "            else:\n",
    "                print(\"Eligible\")"
   ]
  },
  {
   "cell_type": "code",
   "execution_count": 11,
   "id": "a569b86c-c067-4e81-b33b-6d05c56881db",
   "metadata": {},
   "outputs": [
    {
     "name": "stdin",
     "output_type": "stream",
     "text": [
      "Your Gender: Male\n",
      "Your Age: 20\n"
     ]
    },
    {
     "name": "stdout",
     "output_type": "stream",
     "text": [
      "Not Eligible\n"
     ]
    }
   ],
   "source": [
    "ElegiblityForMarriage.Eligible()"
   ]
  },
  {
   "cell_type": "code",
   "execution_count": 12,
   "id": "b9afc2e5-a98c-4de7-8697-62ab99190555",
   "metadata": {},
   "outputs": [],
   "source": [
    "# calculate the percentage of your 10th mark"
   ]
  },
  {
   "cell_type": "code",
   "execution_count": 17,
   "id": "3c1e3262-c6c7-4a6f-b2b1-b999c0304fb3",
   "metadata": {},
   "outputs": [],
   "source": [
    "\n",
    "class FindPercent():\n",
    "        \n",
    "    def percentage():\n",
    "        subject1= int(input(\"Subject1=\"))\n",
    "        subject2= int(input(\"Subject2=\"))\n",
    "        subject3= int(input(\"Subject3=\"))\n",
    "        subject4= int(input(\"Subject4=\"))\n",
    "        subject5= int(input(\"Subject5=\"))\n",
    "        Total = subject1+subject2+subject3+subject4+subject5\n",
    "        percentage = Total/500*100\n",
    "        print(\"Total:\", Total)\n",
    "        print(\"Percentage:\", percentage)\n"
   ]
  },
  {
   "cell_type": "code",
   "execution_count": 18,
   "id": "c7011727-1918-49b7-9789-0ebea886cae0",
   "metadata": {},
   "outputs": [
    {
     "name": "stdin",
     "output_type": "stream",
     "text": [
      "Subject1= 98\n",
      "Subject2= 86\n",
      "Subject3= 95\n",
      "Subject4= 90\n",
      "Subject5= 97\n"
     ]
    },
    {
     "name": "stdout",
     "output_type": "stream",
     "text": [
      "Total: 466\n",
      "Percentage: 93.2\n"
     ]
    }
   ],
   "source": [
    "FindPercent.percentage()"
   ]
  },
  {
   "cell_type": "code",
   "execution_count": 22,
   "id": "37c0d55d-7e80-4b75-a4c4-bf9ae03a1f79",
   "metadata": {},
   "outputs": [
    {
     "name": "stdin",
     "output_type": "stream",
     "text": [
      "Height: 32\n",
      "Breadth: 34\n"
     ]
    },
    {
     "name": "stdout",
     "output_type": "stream",
     "text": [
      "Area Formula: (Height*Breadth)/2\n",
      "Area of triable : 544.0\n"
     ]
    },
    {
     "name": "stdin",
     "output_type": "stream",
     "text": [
      "Height1: 2\n",
      "Height2: 4\n",
      "Breadth1: 4\n"
     ]
    },
    {
     "name": "stdout",
     "output_type": "stream",
     "text": [
      "Perimeter Formula: Height1 + Height2 + Breadth\n",
      "Perimeter of triable : 10\n"
     ]
    }
   ],
   "source": [
    "\n",
    "class triangle():\n",
    "    \n",
    "    def triangle():\n",
    "        Height = int(input(\"Height:\"))\n",
    "        Breadth = int(input(\"Breadth:\"))\n",
    "        print(\"Area Formula: (Height*Breadth)/2\")\n",
    "        Area = (Height*Breadth)/2\n",
    "        print(\"Area of triable :\", Area)\n",
    "        Height1 = int(input(\"Height1:\"))\n",
    "        Height2 = int(input(\"Height2:\"))\n",
    "        Breadth1 = int(input(\"Breadth1:\"))\n",
    "        print(\"Perimeter Formula: Height1 + Height2 + Breadth\")\n",
    "        Perimeter = Height1+Height2+Breadth1\n",
    "        print(\"Perimeter of triable :\", Perimeter)\n",
    "\n",
    "    \n",
    "\n",
    "triangle.triangle()\n",
    "\n"
   ]
  }
 ],
 "metadata": {
  "kernelspec": {
   "display_name": "Python [conda env:base] *",
   "language": "python",
   "name": "conda-base-py"
  },
  "language_info": {
   "codemirror_mode": {
    "name": "ipython",
    "version": 3
   },
   "file_extension": ".py",
   "mimetype": "text/x-python",
   "name": "python",
   "nbconvert_exporter": "python",
   "pygments_lexer": "ipython3",
   "version": "3.13.5"
  }
 },
 "nbformat": 4,
 "nbformat_minor": 5
}
