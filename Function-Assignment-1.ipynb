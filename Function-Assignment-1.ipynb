{
 "cells": [
  {
   "cell_type": "code",
   "execution_count": 1,
   "id": "427a5c80-dedb-49c7-956e-b52557a3552a",
   "metadata": {},
   "outputs": [],
   "source": [
    "# Create a class and function, and list out the items in the list"
   ]
  },
  {
   "cell_type": "code",
   "execution_count": 9,
   "id": "f933c029-6792-441f-b4f1-0c38f8cd887c",
   "metadata": {},
   "outputs": [],
   "source": [
    "def SubfieldsInAI():\n",
    "    print(\"Sub-fields in AI are:\")\n",
    "    for i in list:\n",
    "        print(i)\n",
    "\n",
    "    "
   ]
  },
  {
   "cell_type": "code",
   "execution_count": 10,
   "id": "4dba37e5-a4fd-4c82-9dd8-a2d11fe36bb5",
   "metadata": {},
   "outputs": [
    {
     "name": "stdout",
     "output_type": "stream",
     "text": [
      "Sub-fields in AI are:\n",
      "Machine Learning\n",
      "Neural Networks\n",
      "Vision\n",
      "Robotics\n",
      "Speech processing\n",
      "Natural Language Processing\n"
     ]
    }
   ],
   "source": [
    "list = [\"Machine Learning\",\"Neural Networks\",\"Vision\",\"Robotics\",\"Speech processing\",\"Natural Language Processing\"] \n",
    "SubfieldsInAI()"
   ]
  },
  {
   "cell_type": "code",
   "execution_count": 6,
   "id": "b3acdd42-1883-4db9-b546-9374ae24e025",
   "metadata": {},
   "outputs": [],
   "source": [
    "# Create a function that checks whether the given number is Odd or Even"
   ]
  },
  {
   "cell_type": "code",
   "execution_count": 14,
   "id": "3624c628-82f5-41e9-a4b9-f6446039c42e",
   "metadata": {},
   "outputs": [],
   "source": [
    "def OddEven():\n",
    "    num = int(input(\"Enter a number:\"))\n",
    "    if num%2==0:\n",
    "        print(num,\"is even number\")\n",
    "    else:\n",
    "        print(num,\"is odd number\")\n",
    "    "
   ]
  },
  {
   "cell_type": "code",
   "execution_count": 16,
   "id": "938dd921-ce8d-48cf-b93a-6649f65eb338",
   "metadata": {},
   "outputs": [
    {
     "name": "stdin",
     "output_type": "stream",
     "text": [
      "Enter a number: 52452\n"
     ]
    },
    {
     "name": "stdout",
     "output_type": "stream",
     "text": [
      "52452 is even number\n"
     ]
    }
   ],
   "source": [
    "OddEven()"
   ]
  },
  {
   "cell_type": "code",
   "execution_count": 18,
   "id": "b887963f-a7d6-49e5-b7f7-ac0556d06690",
   "metadata": {},
   "outputs": [],
   "source": [
    "# Create a function that tells elegibility of marriage for male and female according to thei\n",
    "#r age limit like 21 for male and 18 for female"
   ]
  },
  {
   "cell_type": "code",
   "execution_count": 21,
   "id": "8e983a24-d45b-4479-b9a7-0befc59c3740",
   "metadata": {},
   "outputs": [],
   "source": [
    "def Eligible():\n",
    "    Gender=input(\"Your Gender:\")\n",
    "    Age = int(input(\"Your Age:\"))\n",
    "    if Gender==\"Female\":\n",
    "        if Age<18:\n",
    "            print(\"Not Eligible\")\n",
    "        else:\n",
    "            print(\"Eligible\")\n",
    "    else:\n",
    "        if Age<21:\n",
    "            print(\"Not Eligible\")\n",
    "        else:\n",
    "            print(\"Eligible\")\n",
    "    \n",
    "        "
   ]
  },
  {
   "cell_type": "code",
   "execution_count": 26,
   "id": "d47405cf-569b-481f-ade0-e0a6fb6cf28f",
   "metadata": {},
   "outputs": [
    {
     "name": "stdin",
     "output_type": "stream",
     "text": [
      "Your Gender: Female\n",
      "Your Age: 17\n"
     ]
    },
    {
     "name": "stdout",
     "output_type": "stream",
     "text": [
      "Not Eligible\n"
     ]
    }
   ],
   "source": [
    "Eligible()"
   ]
  },
  {
   "cell_type": "code",
   "execution_count": 27,
   "id": "d55ff929-9968-4491-9e20-d0b35f5bda8a",
   "metadata": {},
   "outputs": [],
   "source": [
    "# calculate the percentage of your 10th"
   ]
  },
  {
   "cell_type": "code",
   "execution_count": 32,
   "id": "e0a1dcdf-a3a6-4f29-b119-d7989422ffa6",
   "metadata": {},
   "outputs": [
    {
     "name": "stdout",
     "output_type": "stream",
     "text": [
      "subject1= 98\n",
      "subject2= 87\n",
      "subject3= 95\n",
      "subject4= 95\n",
      "subject5= 93\n",
      "Total: 468\n",
      "Percentage: 93.60000000000001\n"
     ]
    }
   ],
   "source": [
    "subject1= 98\n",
    "subject2= 87\n",
    "subject3= 95\n",
    "subject4= 95\n",
    "subject5 = 93\n",
    "\n",
    "def percentage():\n",
    "    Total = subject1+subject2+subject3+subject4+subject5\n",
    "    percentage = Total/500*100\n",
    "    print(\"subject1=\",subject1)\n",
    "    print(\"subject2=\",subject2)\n",
    "    print(\"subject3=\",subject3)\n",
    "    print(\"subject4=\",subject4)\n",
    "    print(\"subject5=\",subject5)\n",
    "    print(\"Total:\", Total)\n",
    "    print(\"Percentage:\", percentage)\n",
    "    \n",
    "    \n",
    "percentage()\n",
    "\n",
    "    "
   ]
  },
  {
   "cell_type": "code",
   "execution_count": null,
   "id": "7ba6e992-865b-41b0-a2c0-aeab3890231a",
   "metadata": {},
   "outputs": [],
   "source": [
    "#print area and perimeter of triangle using class and functions"
   ]
  },
  {
   "cell_type": "code",
   "execution_count": 34,
   "id": "4d6f69fd-4724-499a-958f-7962b6e86dd3",
   "metadata": {},
   "outputs": [
    {
     "name": "stdin",
     "output_type": "stream",
     "text": [
      "Height: 32\n",
      "Breadth: 34\n",
      "Height1: 2\n",
      "Height2: 4\n",
      "Breadth1: 4\n"
     ]
    },
    {
     "name": "stdout",
     "output_type": "stream",
     "text": [
      "Area Formula: (Height*Breadth)/2\n",
      "Area of triable : 544.0\n",
      "Perimeter Formula: Height1 + Height2 + Breadth\n",
      "Perimeter of triable : 10\n"
     ]
    }
   ],
   "source": [
    "Height = int(input(\"Height:\"))\n",
    "Breadth = int(input(\"Breadth:\"))\n",
    "Height1 = int(input(\"Height1:\"))\n",
    "Height2 = int(input(\"Height2:\"))\n",
    "Breadth1 = int(input(\"Breadth1:\"))\n",
    "\n",
    "def triangle(height, breadth):\n",
    "    #print(\"Height:\",height)\n",
    "    #print(\"Breadth:\",breadth)\n",
    "    print(\"Area Formula: (Height*Breadth)/2\")\n",
    "    Area = (height*breadth)/2\n",
    "    print(\"Area of triable :\", Area)\n",
    "\n",
    "def perimter(height1,height2,breadth1):\n",
    "    #print(\"Height1:\",height1)\n",
    "    #print(\"Height2:\",height2)\n",
    "    #print(\"Breadth:\",breadth1)\n",
    "    print(\"Perimeter Formula: Height1 + Height2 + Breadth\")\n",
    "    Perimeter = height1+height2+breadth1\n",
    "    print(\"Perimeter of triable :\", Perimeter)\n",
    "\n",
    "triangle(Height, Breadth)\n",
    "perimter(Height1,Height2,Breadth1)\n",
    "\n",
    "\n",
    "\n"
   ]
  }
 ],
 "metadata": {
  "kernelspec": {
   "display_name": "Python [conda env:base] *",
   "language": "python",
   "name": "conda-base-py"
  },
  "language_info": {
   "codemirror_mode": {
    "name": "ipython",
    "version": 3
   },
   "file_extension": ".py",
   "mimetype": "text/x-python",
   "name": "python",
   "nbconvert_exporter": "python",
   "pygments_lexer": "ipython3",
   "version": "3.13.5"
  }
 },
 "nbformat": 4,
 "nbformat_minor": 5
}
