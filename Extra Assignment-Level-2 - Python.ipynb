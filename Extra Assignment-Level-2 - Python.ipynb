{
 "cells": [
  {
   "cell_type": "code",
   "execution_count": 1,
   "id": "54cf4a67-eb67-45b0-8d95-e06b5ce54121",
   "metadata": {},
   "outputs": [],
   "source": [
    "#print 0 to 20 using range"
   ]
  },
  {
   "cell_type": "code",
   "execution_count": 11,
   "id": "99a08215-f257-40be-907c-38c1c47fabdf",
   "metadata": {},
   "outputs": [
    {
     "name": "stdout",
     "output_type": "stream",
     "text": [
      "0\n",
      "1\n",
      "2\n",
      "3\n",
      "4\n",
      "5\n",
      "6\n",
      "7\n",
      "8\n",
      "9\n",
      "10\n",
      "11\n",
      "12\n",
      "13\n",
      "14\n",
      "15\n",
      "16\n",
      "17\n",
      "18\n",
      "19\n"
     ]
    }
   ],
   "source": [
    "for num in range(0,20):\n",
    "    print(num)\n",
    "\n",
    "    "
   ]
  },
  {
   "cell_type": "code",
   "execution_count": 12,
   "id": "ad93866e-7a1f-4e83-a1dd-18e5a93fc239",
   "metadata": {},
   "outputs": [],
   "source": [
    "#print range 10 to 20"
   ]
  },
  {
   "cell_type": "code",
   "execution_count": 17,
   "id": "c5c2434d-b80a-4769-9d05-ddd1c6a92247",
   "metadata": {},
   "outputs": [
    {
     "name": "stdout",
     "output_type": "stream",
     "text": [
      "10 11 12 13 14 15 16 17 18 19 "
     ]
    }
   ],
   "source": [
    "for num in range(10,20):\n",
    "    print(num, end =\" \")\n",
    "   "
   ]
  },
  {
   "cell_type": "code",
   "execution_count": 18,
   "id": "93ddcb57-0056-421e-823a-e0637b97cdc5",
   "metadata": {},
   "outputs": [],
   "source": [
    "#Print number of items in the list using 'len'"
   ]
  },
  {
   "cell_type": "code",
   "execution_count": 25,
   "id": "f073fe74-3c8e-44ef-bfa1-40c5586ac242",
   "metadata": {},
   "outputs": [
    {
     "name": "stdout",
     "output_type": "stream",
     "text": [
      "[10, 20, 14, 55, 43, 87, 76]\n",
      "Number of items in the List2:\n",
      "7\n"
     ]
    }
   ],
   "source": [
    "List2 = [10,20,14,55,43,87,76]\n",
    "print(List2)\n",
    "print(\"Number of items in the List2:\")\n",
    "print(len(List2))"
   ]
  },
  {
   "cell_type": "code",
   "execution_count": 30,
   "id": "eea81681-7c99-4a27-b217-75f2ba975b4b",
   "metadata": {},
   "outputs": [
    {
     "name": "stdout",
     "output_type": "stream",
     "text": [
      "Artificial Intelligence\n",
      "A\n",
      "r\n",
      "t\n",
      "i\n",
      "f\n",
      "i\n",
      "c\n",
      "i\n",
      "a\n",
      "l\n",
      " \n",
      "I\n",
      "n\n",
      "t\n",
      "e\n",
      "l\n",
      "l\n",
      "i\n",
      "g\n",
      "e\n",
      "n\n",
      "c\n",
      "e\n"
     ]
    }
   ],
   "source": [
    "word = \"Artificial Intelligence\"\n",
    "print(word)\n",
    "for letter in word:\n",
    "    print(letter)"
   ]
  },
  {
   "cell_type": "code",
   "execution_count": 31,
   "id": "496515eb-c9c4-4ec0-9466-e4ca01e09511",
   "metadata": {},
   "outputs": [
    {
     "name": "stdout",
     "output_type": "stream",
     "text": [
      "-Your Name-\n",
      "-Your Age-\n",
      "-Your Profession-\n"
     ]
    }
   ],
   "source": [
    "print(\"-Your Name-\")\n",
    "print(\"-Your Age-\")\n",
    "print(\"-Your Profession-\")"
   ]
  },
  {
   "cell_type": "code",
   "execution_count": 1,
   "id": "342a8fdf-4464-4b00-af55-10f41a04427c",
   "metadata": {},
   "outputs": [
    {
     "name": "stdout",
     "output_type": "stream",
     "text": [
      "(1, 'Welcome', 2, 'Hope')\n"
     ]
    }
   ],
   "source": [
    "tup=(1,'Welcome',2,'Hope')\n",
    "print(tup)"
   ]
  },
  {
   "cell_type": "code",
   "execution_count": 3,
   "id": "74fdfab9-a427-413e-bd7e-4bc1f6f2113e",
   "metadata": {},
   "outputs": [
    {
     "name": "stdout",
     "output_type": "stream",
     "text": [
      "((0, 1, 2, 3), ('Python', 'Hope'))\n"
     ]
    }
   ],
   "source": [
    "Tuple1 = (0,1,2,3)\n",
    "Tuple2 = ('Python','Hope')\n",
    "Tuple3 = (Tuple1,Tuple2)\n",
    "print(Tuple3)"
   ]
  },
  {
   "cell_type": "code",
   "execution_count": null,
   "id": "99e12b67-791c-41a5-98f9-b3c50749f117",
   "metadata": {},
   "outputs": [],
   "source": [
    "#Print odd numbers in the list"
   ]
  },
  {
   "cell_type": "code",
   "execution_count": 4,
   "id": "3e30703f-4cf1-409c-a892-2c3c053893a1",
   "metadata": {},
   "outputs": [
    {
     "name": "stdout",
     "output_type": "stream",
     "text": [
      "19 is odd \n",
      "25 is odd \n",
      "1 is odd \n"
     ]
    }
   ],
   "source": [
    "list=(20,10,16,19,25,1,276,188)\n",
    "for i in list:\n",
    "    if i%2==1:\n",
    "        print(i,\"is odd \")\n"
   ]
  },
  {
   "cell_type": "code",
   "execution_count": null,
   "id": "af2c57c9-adad-4d73-a372-e586be7cb19d",
   "metadata": {},
   "outputs": [],
   "source": [
    "#Print even numbers in the list"
   ]
  },
  {
   "cell_type": "code",
   "execution_count": 5,
   "id": "db521c93-1fb4-4863-99b8-f7278d4e705b",
   "metadata": {},
   "outputs": [
    {
     "name": "stdout",
     "output_type": "stream",
     "text": [
      "20 is even \n",
      "10 is even \n",
      "16 is even \n",
      "276 is even \n",
      "188 is even \n"
     ]
    }
   ],
   "source": [
    "list=(20,10,16,19,25,1,276,188)\n",
    "for i in list:\n",
    "    if i%2==0:\n",
    "        print(i,\"is even \")"
   ]
  }
 ],
 "metadata": {
  "kernelspec": {
   "display_name": "Python [conda env:base] *",
   "language": "python",
   "name": "conda-base-py"
  },
  "language_info": {
   "codemirror_mode": {
    "name": "ipython",
    "version": 3
   },
   "file_extension": ".py",
   "mimetype": "text/x-python",
   "name": "python",
   "nbconvert_exporter": "python",
   "pygments_lexer": "ipython3",
   "version": "3.13.5"
  }
 },
 "nbformat": 4,
 "nbformat_minor": 5
}
